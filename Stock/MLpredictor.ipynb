{
 "cells": [
  {
   "cell_type": "code",
   "execution_count": 1,
   "metadata": {},
   "outputs": [
    {
     "name": "stderr",
     "output_type": "stream",
     "text": [
      "/srv/venv/lib/python3.6/site-packages/sklearn/cross_validation.py:41: DeprecationWarning: This module was deprecated in version 0.18 in favor of the model_selection module into which all the refactored classes and functions are moved. Also note that the interface of the new CV iterators are different from that of this module. This module will be removed in 0.20.\n",
      "  \"This module will be removed in 0.20.\", DeprecationWarning)\n"
     ]
    }
   ],
   "source": [
    "%matplotlib inline\n",
    "import matplotlib\n",
    "import pandas as pd\n",
    "import quandl #to get stock data\n",
    "import numpy as np\n",
    "import datetime\n",
    "import warnings; warnings.simplefilter('ignore') #ignoring constant warnings in Jupyter Notebook\n",
    "import matplotlib.pyplot as plt #to graph predicitons\n",
    "\n",
    "from sklearn.linear_model import LinearRegression\n",
    "from sklearn import preprocessing, cross_validation, svm "
   ]
  },
  {
   "cell_type": "code",
   "execution_count": 2,
   "metadata": {},
   "outputs": [
    {
     "name": "stdout",
     "output_type": "stream",
     "text": [
      "               Open     High      Low     Last    Close  Total Trade Quantity  \\\n",
      "Date                                                                            \n",
      "2008-12-31  1308.00  1308.00  1270.00  1290.00  1288.80             2704078.0   \n",
      "2009-01-01  1329.00  1329.00  1284.10  1313.70  1316.30             1899777.0   \n",
      "2009-01-02  1315.00  1350.00  1312.20  1331.30  1331.85             2416165.0   \n",
      "2009-01-05  1354.00  1377.65  1348.00  1358.00  1360.80             2693191.0   \n",
      "2009-01-06  1388.70  1388.70  1298.00  1326.25  1322.85             3597096.0   \n",
      "2009-01-07  1325.00  1349.65  1220.10  1245.00  1240.05             3726858.0   \n",
      "2009-01-09  1220.00  1251.70  1176.35  1224.00  1221.10             2499651.0   \n",
      "2009-01-12  1205.00  1223.20  1108.35  1166.00  1158.90             4092767.0   \n",
      "2009-01-13  1145.00  1186.30  1140.40  1174.00  1174.90             2284456.0   \n",
      "2009-01-14  1180.00  1211.45  1171.40  1200.20  1196.90             1722546.0   \n",
      "2009-01-15  1175.00  1175.00  1132.00  1149.00  1147.25             1884840.0   \n",
      "2009-01-16  1155.00  1176.60  1151.00  1165.00  1164.15             1621098.0   \n",
      "2009-01-19  1163.00  1183.00  1139.10  1146.20  1146.40             2140292.0   \n",
      "2009-01-20  1132.00  1135.00  1102.20  1114.00  1112.90             1801344.0   \n",
      "2009-01-21  1100.00  1109.80  1070.00  1076.90  1081.20             2345344.0   \n",
      "2009-01-22  1099.90  1104.00  1066.05  1085.00  1090.30             2394718.0   \n",
      "2009-01-23  1079.45  1111.00  1031.10  1041.80  1041.50             4359527.0   \n",
      "2009-01-27  1060.00  1094.00  1060.00  1085.35  1087.65             3819415.0   \n",
      "2009-01-28  1092.35  1117.70  1065.35  1115.35  1112.45             3435352.0   \n",
      "2009-01-29  1130.00  1164.00  1088.65  1100.10  1099.25             3592312.0   \n",
      "2009-01-30  1094.85  1159.00  1076.75  1148.00  1151.00             2833520.0   \n",
      "2009-02-02  1139.00  1139.00  1085.15  1091.40  1095.80             2580005.0   \n",
      "2009-02-03  1066.20  1133.00  1066.20  1090.40  1092.30             2829085.0   \n",
      "2009-02-04  1100.00  1119.65  1086.05  1100.00  1096.80             1959677.0   \n",
      "2009-02-05  1102.50  1109.70  1082.00  1095.10  1094.75             1652160.0   \n",
      "2009-02-06  1110.00  1124.00  1100.00  1116.40  1118.60             1330674.0   \n",
      "2009-02-09  1125.00  1154.00  1116.00  1148.00  1147.55             1569646.0   \n",
      "2009-02-10  1173.70  1183.85  1143.00  1165.00  1164.10             1873230.0   \n",
      "2009-02-11  1157.00  1165.00  1107.05  1163.00  1158.90             1652995.0   \n",
      "2009-02-12  1146.85  1176.60  1145.00  1158.40  1159.20             1971785.0   \n",
      "...             ...      ...      ...      ...      ...                   ...   \n",
      "2018-01-24   317.70   331.60   316.20   330.45   329.90            38070520.0   \n",
      "2018-01-25   332.75   332.75   311.85   311.90   313.15            42466150.0   \n",
      "2018-01-29   313.15   316.90   311.00   313.00   312.10            23600898.0   \n",
      "2018-01-30   312.05   318.85   311.00   313.50   313.55            25810404.0   \n",
      "2018-01-31   313.00   316.60   307.85   314.50   313.25            16409938.0   \n",
      "2018-02-01   316.90   317.40   305.00   305.40   306.05            19515991.0   \n",
      "2018-02-02   302.90   305.75   295.50   295.80   297.35            23274673.0   \n",
      "2018-02-05   292.65   300.40   290.00   299.00   298.05            18940578.0   \n",
      "2018-02-06   285.00   297.30   282.90   294.60   291.75            30577218.0   \n",
      "2018-02-07   296.60   297.90   290.00   292.10   292.80            21463818.0   \n",
      "2018-02-08   292.90   303.30   292.55   302.25   301.40            18932796.0   \n",
      "2018-02-09   297.00   300.60   295.00   295.40   296.40            15750824.0   \n",
      "2018-02-12   288.25   292.40   285.15   290.10   288.75            50839665.0   \n",
      "2018-02-14   288.70   288.70   275.00   275.50   276.20            45641149.0   \n",
      "2018-02-15   274.80   282.30   274.25   279.10   278.70            26058237.0   \n",
      "2018-02-16   280.50   281.20   270.05   271.40   271.65            30338112.0   \n",
      "2018-02-19   271.50   272.00   256.65   269.60   268.50            43847791.0   \n",
      "2018-02-20   269.00   274.20   264.80   269.50   269.65            33458021.0   \n",
      "2018-02-21   272.20   274.10   267.40   273.15   273.30            23714454.0   \n",
      "2018-02-22   270.40   273.60   269.45   272.50   272.60            25584062.0   \n",
      "2018-02-23   273.45   277.20   272.50   276.40   276.05            15482147.0   \n",
      "2018-02-26   280.00   280.00   273.85   274.30   274.45            15306032.0   \n",
      "2018-02-27   273.00   275.90   265.95   267.70   267.60            20824909.0   \n",
      "2018-02-28   264.25   269.70   260.80   267.95   268.00            26810799.0   \n",
      "2018-03-01   266.30   270.00   261.25   262.20   262.15            22859175.0   \n",
      "2018-03-05   260.45   265.00   258.75   263.15   263.50            18484565.0   \n",
      "2018-03-06   265.85   266.00   255.00   255.35   256.55            20778164.0   \n",
      "2018-03-07   255.05   255.35   246.05   246.70   246.65            31262500.0   \n",
      "2018-03-08   247.00   257.95   244.30   256.65   256.80            33133336.0   \n",
      "2018-03-09   257.00   257.40   251.65   253.65   253.25            21536191.0   \n",
      "\n",
      "            Turnover (Lacs)  \n",
      "Date                         \n",
      "2008-12-31         34799.18  \n",
      "2009-01-01         24856.90  \n",
      "2009-01-02         32294.93  \n",
      "2009-01-05         36730.59  \n",
      "2009-01-06         47990.73  \n",
      "2009-01-07         47493.02  \n",
      "2009-01-09         30580.72  \n",
      "2009-01-12         47769.81  \n",
      "2009-01-13         26680.68  \n",
      "2009-01-14         20585.66  \n",
      "2009-01-15         21613.74  \n",
      "2009-01-16         18917.48  \n",
      "2009-01-19         24680.50  \n",
      "2009-01-20         20053.87  \n",
      "2009-01-21         25712.11  \n",
      "2009-01-22         25998.62  \n",
      "2009-01-23         46146.50  \n",
      "2009-01-27         41183.59  \n",
      "2009-01-28         37474.89  \n",
      "2009-01-29         40272.22  \n",
      "2009-01-30         31876.45  \n",
      "2009-02-02         28569.36  \n",
      "2009-02-03         30930.52  \n",
      "2009-02-04         21600.76  \n",
      "2009-02-05         18029.48  \n",
      "2009-02-06         14852.36  \n",
      "2009-02-09         17865.64  \n",
      "2009-02-10         21838.23  \n",
      "2009-02-11         18984.90  \n",
      "2009-02-12         22900.19  \n",
      "...                     ...  \n",
      "2018-01-24        123337.62  \n",
      "2018-01-25        134935.53  \n",
      "2018-01-29         74010.09  \n",
      "2018-01-30         81266.96  \n",
      "2018-01-31         51252.07  \n",
      "2018-02-01         60630.27  \n",
      "2018-02-02         69840.12  \n",
      "2018-02-05         55996.68  \n",
      "2018-02-06         88592.23  \n",
      "2018-02-07         62970.80  \n",
      "2018-02-08         56533.83  \n",
      "2018-02-09         46891.07  \n",
      "2018-02-12        147078.62  \n",
      "2018-02-14        128246.21  \n",
      "2018-02-15         72737.88  \n",
      "2018-02-16         83109.86  \n",
      "2018-02-19        115701.88  \n",
      "2018-02-20         90183.43  \n",
      "2018-02-21         64308.20  \n",
      "2018-02-22         69686.89  \n",
      "2018-02-23         42668.16  \n",
      "2018-02-26         42205.75  \n",
      "2018-02-27         56133.62  \n",
      "2018-02-28         71353.36  \n",
      "2018-03-01         60490.17  \n",
      "2018-03-05         48522.94  \n",
      "2018-03-06         54319.96  \n",
      "2018-03-07         77832.71  \n",
      "2018-03-08         83324.37  \n",
      "2018-03-09         54678.77  \n",
      "\n",
      "[2278 rows x 7 columns]\n"
     ]
    }
   ],
   "source": [
    "#creating a dataframe holding stock from company of choice in format \"WIKI/companyticker\", here we use Chipotle, Inc., where the ticker is CMG\n",
    "\n",
    "#df = quandl.get(\"WIKI/CMG\")\n",
    "\n",
    "df = quandl.get(\"NSE/SBIN\", start_date=\"2008-12-31\", end_date=\"2018-03-10\")\n",
    "\n",
    "#looking at the head of the whole dataframe\n",
    "print(df)"
   ]
  },
  {
   "cell_type": "code",
   "execution_count": 4,
   "metadata": {},
   "outputs": [
    {
     "name": "stdout",
     "output_type": "stream",
     "text": [
      "             Close  Prediction\n",
      "Date                          \n",
      "2018-03-05  263.50         NaN\n",
      "2018-03-06  256.55         NaN\n",
      "2018-03-07  246.65         NaN\n",
      "2018-03-08  256.80         NaN\n",
      "2018-03-09  253.25         NaN\n"
     ]
    }
   ],
   "source": [
    "#isolating the Adj. Close column we will use in our predictions \n",
    "#df = df[['Adj. Close']]\n",
    "df = df[['Close']]\n",
    "\n",
    "\n",
    "#forecasting 30 days into the future \n",
    "forecast = int(30)\n",
    "#label column with data shifted 30 units\n",
    "#df['Prediction'] = df[['Adj. Close']].shift(-forecast)\n",
    "df['Prediction'] = df[['Close']].shift(-forecast)\n",
    "\n",
    "#seeing the head of the dataframe to be used for prediction\n",
    "print(df.tail())"
   ]
  },
  {
   "cell_type": "code",
   "execution_count": 5,
   "metadata": {},
   "outputs": [],
   "source": [
    "#X variable will be an array of the Adj. Close values, need to get rid of prediction column\n",
    "X = np.array(df.drop(['Prediction'], 1))\n",
    "X = preprocessing.scale(X)\n",
    "\n",
    "X_forecast = X[-forecast:] #setting X_forecast equal to last 30 \n",
    "X = X[:-forecast] #remove last 30 from X\n",
    "\n",
    "y = np.array(df['Prediction']) #result of interest, array holding just the prediction values\n",
    "y = y[:-forecast] #Clearing out the last 30 from Y\n"
   ]
  },
  {
   "cell_type": "code",
   "execution_count": 6,
   "metadata": {},
   "outputs": [
    {
     "name": "stdout",
     "output_type": "stream",
     "text": [
      "confidence:  0.905540729485\n",
      "[ 384.34156294  368.54271287  367.5523372   368.91999885  368.63703437\n",
      "  361.84588688  353.63991699  354.30016744  348.35791339  349.34828906\n",
      "  357.45993745  352.74386281  345.5282686   333.69092124  336.04895856\n",
      "  329.39929331  326.42816628  327.51286345  330.95559794  330.29534749\n",
      "  333.549439    332.04029511  325.57927284  325.95655882  320.43875148\n",
      "  321.71209163  315.15674788  305.81892007  315.39255161  312.04413861]\n"
     ]
    }
   ],
   "source": [
    "#Linear Regression\n",
    "#Starting the training process, test size will be 20% of data\n",
    "\n",
    "X_train, X_test, y_train, y_test = cross_validation.train_test_split(X, y, test_size = 0.2)\n",
    "\n",
    "#initiate linear regression model and fit with training data\n",
    "#training\n",
    "clf = LinearRegression() #creating model stored in clf variable\n",
    "clf.fit(X_train, y_train) #fitting the model with the training data\n",
    "\n",
    "#testing \n",
    "confidence = clf.score(X_test, y_test) \n",
    "print(\"confidence: \", confidence)\n",
    "\n",
    "#predicting our X_forecast values\n",
    "forecast_prediction = clf.predict(X_forecast) #calling the model to predict the X_forecast variable and storing into variable forecast_prediction\n",
    "print(forecast_prediction)"
   ]
  },
  {
   "cell_type": "code",
   "execution_count": 7,
   "metadata": {},
   "outputs": [
    {
     "data": {
      "text/plain": [
       "<matplotlib.text.Text at 0x7fb24cacf828>"
      ]
     },
     "execution_count": 7,
     "metadata": {},
     "output_type": "execute_result"
    },
    {
     "data": {
      "image/png": "[encoded data removed]",
      "text/plain": [
       "<matplotlib.figure.Figure at 0x7fb24cb7eda0>"
      ]
     },
     "metadata": {},
     "output_type": "display_data"
    }
   ],
   "source": [
    "#graphing our predictions \n",
    "plt.plot(forecast_prediction)\n",
    "plt.xlabel('Day')\n",
    "plt.ylabel('Price')\n",
    "plt.grid(True)\n",
    "plt.title('Chipotle(CMG) Price Predictions, Next 30 Days')\n"
   ]
  },
  {
   "cell_type": "code",
   "execution_count": null,
   "metadata": {},
   "outputs": [],
   "source": []
  }
 ],
 "metadata": {
  "kernelspec": {
   "display_name": "Python 3",
   "language": "python",
   "name": "python3"
  },
  "language_info": {
   "codemirror_mode": {
    "name": "ipython",
    "version": 3
   },
   "file_extension": ".py",
   "mimetype": "text/x-python",
   "name": "python",
   "nbconvert_exporter": "python",
   "pygments_lexer": "ipython3",
   "version": "3.6.3"
  }
 },
 "nbformat": 4,
 "nbformat_minor": 2
}
